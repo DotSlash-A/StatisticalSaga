{
 "cells": [
  {
   "cell_type": "code",
   "execution_count": 1,
   "metadata": {},
   "outputs": [],
   "source": [
    "import pandas as pd\n",
    "import numpy as np\n",
    "\n",
    "from scipy.stats import binom\n",
    "import matplotlib.pyplot as plt"
   ]
  },
  {
   "cell_type": "code",
   "execution_count": 2,
   "metadata": {},
   "outputs": [],
   "source": [
    "def binomial(x,n,p,string):\n",
    "  ans=binom.pmf(x,n,p)\n",
    "  print(f\"The probability of {string} is {ans:.3f}\")"
   ]
  },
  {
   "cell_type": "markdown",
   "metadata": {},
   "source": [
    "b1"
   ]
  },
  {
   "cell_type": "code",
   "execution_count": 4,
   "metadata": {},
   "outputs": [
    {
     "name": "stdout",
     "output_type": "stream",
     "text": [
      "The probability of 2 among the kids going to the school in the locality is 0.052\n"
     ]
    }
   ],
   "source": [
    "binomial(2,10,0.04,\"2 among the kids going to the school in the locality\")"
   ]
  },
  {
   "cell_type": "markdown",
   "metadata": {},
   "source": [
    "9) For a mission, helicopter gunships are sent to destroy a critical target. The probability that a\n",
    "gunship will hit the target is 0.65. If at least 5 gunships are needed to destroy the target and a\n",
    "battalion has sent 8 such gunships, then find the probability that the target will be destroyed.\n",
    "(Enter the answer up to 3 decimal accuracy)."
   ]
  },
  {
   "cell_type": "code",
   "execution_count": 7,
   "metadata": {},
   "outputs": [
    {
     "name": "stdout",
     "output_type": "stream",
     "text": [
      "The probability of the target will be destroyed is 0.279\n"
     ]
    }
   ],
   "source": [
    "binomial(5,8,0.65,\"the target will be destroyed\")"
   ]
  },
  {
   "cell_type": "code",
   "execution_count": 23,
   "metadata": {},
   "outputs": [
    {
     "data": {
      "text/plain": [
       "0.7063994361328125"
      ]
     },
     "execution_count": 23,
     "metadata": {},
     "output_type": "execute_result"
    }
   ],
   "source": [
    "1-(binom.pmf(4,8,0.65)+binom.pmf(3,8,0.65)+binom.pmf(2,8,0.65)+binom.pmf(1,8,0.65)+binom.pmf(0,8,0.65))"
   ]
  },
  {
   "cell_type": "code",
   "execution_count": 22,
   "metadata": {},
   "outputs": [
    {
     "data": {
      "text/plain": [
       "0.7063994361328125"
      ]
     },
     "execution_count": 22,
     "metadata": {},
     "output_type": "execute_result"
    }
   ],
   "source": [
    "binom.pmf(5,8,0.65)+binom.pmf(6,8,0.65)+binom.pmf(7,8,0.65)+binom.pmf(8,8,0.65)"
   ]
  },
  {
   "cell_type": "code",
   "execution_count": null,
   "metadata": {},
   "outputs": [],
   "source": []
  }
 ],
 "metadata": {
  "kernelspec": {
   "display_name": "base",
   "language": "python",
   "name": "python3"
  },
  "language_info": {
   "codemirror_mode": {
    "name": "ipython",
    "version": 3
   },
   "file_extension": ".py",
   "mimetype": "text/x-python",
   "name": "python",
   "nbconvert_exporter": "python",
   "pygments_lexer": "ipython3",
   "version": "3.8.8"
  }
 },
 "nbformat": 4,
 "nbformat_minor": 2
}
